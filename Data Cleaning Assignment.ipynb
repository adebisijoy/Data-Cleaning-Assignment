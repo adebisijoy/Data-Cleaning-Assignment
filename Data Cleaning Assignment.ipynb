{
 "cells": [
  {
   "cell_type": "markdown",
   "id": "f9971f48",
   "metadata": {},
   "source": [
    "## Checking and Removing Duplicates"
   ]
  },
  {
   "cell_type": "code",
   "execution_count": 1,
   "id": "8a92a722",
   "metadata": {},
   "outputs": [
    {
     "data": {
      "text/html": [
       "<div>\n",
       "<style scoped>\n",
       "    .dataframe tbody tr th:only-of-type {\n",
       "        vertical-align: middle;\n",
       "    }\n",
       "\n",
       "    .dataframe tbody tr th {\n",
       "        vertical-align: top;\n",
       "    }\n",
       "\n",
       "    .dataframe thead th {\n",
       "        text-align: right;\n",
       "    }\n",
       "</style>\n",
       "<table border=\"1\" class=\"dataframe\">\n",
       "  <thead>\n",
       "    <tr style=\"text-align: right;\">\n",
       "      <th></th>\n",
       "      <th>TrnsnID</th>\n",
       "      <th>Data</th>\n",
       "      <th>CusmrID</th>\n",
       "      <th>ProdtID</th>\n",
       "      <th>ProdtName</th>\n",
       "      <th>Qutity</th>\n",
       "      <th>Prize</th>\n",
       "      <th>TtlSales</th>\n",
       "      <th>PaymentType</th>\n",
       "      <th>CusterAge</th>\n",
       "    </tr>\n",
       "  </thead>\n",
       "  <tbody>\n",
       "    <tr>\n",
       "      <th>0</th>\n",
       "      <td>7402</td>\n",
       "      <td>03/17/2026</td>\n",
       "      <td>991</td>\n",
       "      <td>1045</td>\n",
       "      <td>Boo E</td>\n",
       "      <td>9</td>\n",
       "      <td>167.72</td>\n",
       "      <td>2935.06</td>\n",
       "      <td>NaN</td>\n",
       "      <td>87</td>\n",
       "    </tr>\n",
       "    <tr>\n",
       "      <th>1</th>\n",
       "      <td>5835</td>\n",
       "      <td>26-01-2035</td>\n",
       "      <td>741</td>\n",
       "      <td>1040</td>\n",
       "      <td>Book J</td>\n",
       "      <td>18</td>\n",
       "      <td>193.27</td>\n",
       "      <td>4386.52</td>\n",
       "      <td>debit card</td>\n",
       "      <td>69</td>\n",
       "    </tr>\n",
       "    <tr>\n",
       "      <th>2</th>\n",
       "      <td>2123</td>\n",
       "      <td>05/26/2035</td>\n",
       "      <td>933</td>\n",
       "      <td>1062</td>\n",
       "      <td>Bok N</td>\n",
       "      <td>5</td>\n",
       "      <td>126.39</td>\n",
       "      <td>1948.46</td>\n",
       "      <td>Cash</td>\n",
       "      <td>15</td>\n",
       "    </tr>\n",
       "    <tr>\n",
       "      <th>3</th>\n",
       "      <td>8789</td>\n",
       "      <td>28-02-2036</td>\n",
       "      <td>641</td>\n",
       "      <td>1060</td>\n",
       "      <td>Book I</td>\n",
       "      <td>6</td>\n",
       "      <td>66.98</td>\n",
       "      <td>1757.26</td>\n",
       "      <td>Cash</td>\n",
       "      <td>22</td>\n",
       "    </tr>\n",
       "    <tr>\n",
       "      <th>4</th>\n",
       "      <td>305</td>\n",
       "      <td>19-04-2023</td>\n",
       "      <td>123</td>\n",
       "      <td>1058</td>\n",
       "      <td>Book B</td>\n",
       "      <td>15</td>\n",
       "      <td>33.63</td>\n",
       "      <td>2578.19</td>\n",
       "      <td>Cash</td>\n",
       "      <td>-1</td>\n",
       "    </tr>\n",
       "    <tr>\n",
       "      <th>...</th>\n",
       "      <td>...</td>\n",
       "      <td>...</td>\n",
       "      <td>...</td>\n",
       "      <td>...</td>\n",
       "      <td>...</td>\n",
       "      <td>...</td>\n",
       "      <td>...</td>\n",
       "      <td>...</td>\n",
       "      <td>...</td>\n",
       "      <td>...</td>\n",
       "    </tr>\n",
       "    <tr>\n",
       "      <th>10095</th>\n",
       "      <td>5735</td>\n",
       "      <td>04/03/2027</td>\n",
       "      <td>52</td>\n",
       "      <td>1066</td>\n",
       "      <td>Book G</td>\n",
       "      <td>1</td>\n",
       "      <td>191.41</td>\n",
       "      <td>2788.25</td>\n",
       "      <td>Credit Card</td>\n",
       "      <td>91</td>\n",
       "    </tr>\n",
       "    <tr>\n",
       "      <th>10096</th>\n",
       "      <td>5192</td>\n",
       "      <td>08/16/2025</td>\n",
       "      <td>334</td>\n",
       "      <td>1093</td>\n",
       "      <td>Bok N</td>\n",
       "      <td>-2</td>\n",
       "      <td>186.16</td>\n",
       "      <td>1187.53</td>\n",
       "      <td>paypal</td>\n",
       "      <td>50</td>\n",
       "    </tr>\n",
       "    <tr>\n",
       "      <th>10097</th>\n",
       "      <td>5391</td>\n",
       "      <td>06/18/2026</td>\n",
       "      <td>657</td>\n",
       "      <td>1047</td>\n",
       "      <td>Bookk H</td>\n",
       "      <td>5</td>\n",
       "      <td>84.38</td>\n",
       "      <td>2119.76</td>\n",
       "      <td>debit card</td>\n",
       "      <td>63</td>\n",
       "    </tr>\n",
       "    <tr>\n",
       "      <th>10098</th>\n",
       "      <td>861</td>\n",
       "      <td>04/08/2034</td>\n",
       "      <td>579</td>\n",
       "      <td>1014</td>\n",
       "      <td>Bok N</td>\n",
       "      <td>19</td>\n",
       "      <td>137.58</td>\n",
       "      <td>1708.87</td>\n",
       "      <td>Debit</td>\n",
       "      <td>-7</td>\n",
       "    </tr>\n",
       "    <tr>\n",
       "      <th>10099</th>\n",
       "      <td>7271</td>\n",
       "      <td>26-04-2029</td>\n",
       "      <td>153</td>\n",
       "      <td>1052</td>\n",
       "      <td>Book T</td>\n",
       "      <td>10</td>\n",
       "      <td>159.98</td>\n",
       "      <td>2743.67</td>\n",
       "      <td>debit card</td>\n",
       "      <td>77</td>\n",
       "    </tr>\n",
       "  </tbody>\n",
       "</table>\n",
       "<p>10100 rows × 10 columns</p>\n",
       "</div>"
      ],
      "text/plain": [
       "       TrnsnID        Data  CusmrID  ProdtID ProdtName  Qutity   Prize  \\\n",
       "0         7402  03/17/2026      991     1045     Boo E       9  167.72   \n",
       "1         5835  26-01-2035      741     1040    Book J      18  193.27   \n",
       "2         2123  05/26/2035      933     1062     Bok N       5  126.39   \n",
       "3         8789  28-02-2036      641     1060    Book I       6   66.98   \n",
       "4          305  19-04-2023      123     1058    Book B      15   33.63   \n",
       "...        ...         ...      ...      ...       ...     ...     ...   \n",
       "10095     5735  04/03/2027       52     1066    Book G       1  191.41   \n",
       "10096     5192  08/16/2025      334     1093     Bok N      -2  186.16   \n",
       "10097     5391  06/18/2026      657     1047   Bookk H       5   84.38   \n",
       "10098      861  04/08/2034      579     1014     Bok N      19  137.58   \n",
       "10099     7271  26-04-2029      153     1052    Book T      10  159.98   \n",
       "\n",
       "       TtlSales  PaymentType  CusterAge  \n",
       "0       2935.06          NaN         87  \n",
       "1       4386.52   debit card         69  \n",
       "2       1948.46         Cash         15  \n",
       "3       1757.26         Cash         22  \n",
       "4       2578.19         Cash         -1  \n",
       "...         ...          ...        ...  \n",
       "10095   2788.25  Credit Card         91  \n",
       "10096   1187.53       paypal         50  \n",
       "10097   2119.76   debit card         63  \n",
       "10098   1708.87        Debit         -7  \n",
       "10099   2743.67   debit card         77  \n",
       "\n",
       "[10100 rows x 10 columns]"
      ]
     },
     "execution_count": 1,
     "metadata": {},
     "output_type": "execute_result"
    }
   ],
   "source": [
    "import pandas as pd\n",
    "df = pd.read_csv(r\"C:\\Users\\joy\\Downloads\\messy_data.csv\")\n",
    "df"
   ]
  },
  {
   "cell_type": "code",
   "execution_count": 2,
   "id": "e42b13d9",
   "metadata": {},
   "outputs": [
    {
     "data": {
      "text/plain": [
       "TrnsnID\n",
       "False    10000\n",
       "True       100\n",
       "Name: count, dtype: int64"
      ]
     },
     "execution_count": 2,
     "metadata": {},
     "output_type": "execute_result"
    }
   ],
   "source": [
    "# Checking for duplicate rows\n",
    "df[\"TrnsnID\"].duplicated().value_counts()"
   ]
  },
  {
   "cell_type": "code",
   "execution_count": 3,
   "id": "5a4b5cc6",
   "metadata": {},
   "outputs": [
    {
     "data": {
      "text/plain": [
       "CusmrID\n",
       "True     9101\n",
       "False     999\n",
       "Name: count, dtype: int64"
      ]
     },
     "execution_count": 3,
     "metadata": {},
     "output_type": "execute_result"
    }
   ],
   "source": [
    "df[\"CusmrID\"].duplicated().value_counts()"
   ]
  },
  {
   "cell_type": "code",
   "execution_count": 4,
   "id": "b3d5232e",
   "metadata": {},
   "outputs": [
    {
     "data": {
      "text/plain": [
       "ProdtID\n",
       "True     10000\n",
       "False      100\n",
       "Name: count, dtype: int64"
      ]
     },
     "execution_count": 4,
     "metadata": {},
     "output_type": "execute_result"
    }
   ],
   "source": [
    "df[\"ProdtID\"].duplicated().value_counts()"
   ]
  },
  {
   "cell_type": "markdown",
   "id": "b90fe89b",
   "metadata": {},
   "source": [
    "# Removing duplicates in the TransactionID"
   ]
  },
  {
   "cell_type": "code",
   "execution_count": 5,
   "id": "c1e55096",
   "metadata": {},
   "outputs": [],
   "source": [
    "# The duplicates in the transactionID would be removed because, transactionID are meant to be unique for every customer,\n",
    "# the CustomerID can be duplicated because the customer may order mutiple times but different products\n",
    "# the productID can be duplicated because the customer may chose to buy the same product more than once.\n",
    "df.drop_duplicates(inplace=True)"
   ]
  },
  {
   "cell_type": "code",
   "execution_count": 6,
   "id": "53243b47",
   "metadata": {},
   "outputs": [
    {
     "data": {
      "text/plain": [
       "TrnsnID\n",
       "False    10000\n",
       "Name: count, dtype: int64"
      ]
     },
     "execution_count": 6,
     "metadata": {},
     "output_type": "execute_result"
    }
   ],
   "source": [
    "# It is evident that are no longer duplicates across the rows.\n",
    "df[\"TrnsnID\"].duplicated().value_counts()"
   ]
  },
  {
   "cell_type": "code",
   "execution_count": 7,
   "id": "49414e3f",
   "metadata": {},
   "outputs": [
    {
     "data": {
      "text/plain": [
       "CusmrID\n",
       "True     9001\n",
       "False     999\n",
       "Name: count, dtype: int64"
      ]
     },
     "execution_count": 7,
     "metadata": {},
     "output_type": "execute_result"
    }
   ],
   "source": [
    "df[\"CusmrID\"].duplicated().value_counts()"
   ]
  },
  {
   "cell_type": "code",
   "execution_count": 8,
   "id": "8fed0144",
   "metadata": {},
   "outputs": [
    {
     "data": {
      "text/plain": [
       "ProdtID\n",
       "True     9900\n",
       "False     100\n",
       "Name: count, dtype: int64"
      ]
     },
     "execution_count": 8,
     "metadata": {},
     "output_type": "execute_result"
    }
   ],
   "source": [
    "df[\"ProdtID\"].duplicated().value_counts()"
   ]
  },
  {
   "cell_type": "markdown",
   "id": "67b38aca",
   "metadata": {},
   "source": [
    "## Checking and Handling missing values"
   ]
  },
  {
   "cell_type": "code",
   "execution_count": 9,
   "id": "0d88232d",
   "metadata": {},
   "outputs": [
    {
     "data": {
      "text/plain": [
       "TrnsnID           0\n",
       "Data              0\n",
       "CusmrID           0\n",
       "ProdtID           0\n",
       "ProdtName       994\n",
       "Qutity            0\n",
       "Prize             0\n",
       "TtlSales          0\n",
       "PaymentType    1439\n",
       "CusterAge         0\n",
       "dtype: int64"
      ]
     },
     "execution_count": 9,
     "metadata": {},
     "output_type": "execute_result"
    }
   ],
   "source": [
    "df.isna().sum()"
   ]
  },
  {
   "cell_type": "code",
   "execution_count": 10,
   "id": "6a7eaaf8",
   "metadata": {},
   "outputs": [
    {
     "data": {
      "text/html": [
       "<div>\n",
       "<style scoped>\n",
       "    .dataframe tbody tr th:only-of-type {\n",
       "        vertical-align: middle;\n",
       "    }\n",
       "\n",
       "    .dataframe tbody tr th {\n",
       "        vertical-align: top;\n",
       "    }\n",
       "\n",
       "    .dataframe thead th {\n",
       "        text-align: right;\n",
       "    }\n",
       "</style>\n",
       "<table border=\"1\" class=\"dataframe\">\n",
       "  <thead>\n",
       "    <tr style=\"text-align: right;\">\n",
       "      <th></th>\n",
       "      <th>TrnsnID</th>\n",
       "      <th>Data</th>\n",
       "      <th>CusmrID</th>\n",
       "      <th>ProdtID</th>\n",
       "      <th>ProdtName</th>\n",
       "      <th>Qutity</th>\n",
       "      <th>Prize</th>\n",
       "      <th>TtlSales</th>\n",
       "      <th>PaymentType</th>\n",
       "      <th>CusterAge</th>\n",
       "    </tr>\n",
       "  </thead>\n",
       "  <tbody>\n",
       "    <tr>\n",
       "      <th>0</th>\n",
       "      <td>7402</td>\n",
       "      <td>03/17/2026</td>\n",
       "      <td>991</td>\n",
       "      <td>1045</td>\n",
       "      <td>Boo E</td>\n",
       "      <td>9</td>\n",
       "      <td>167.72</td>\n",
       "      <td>2935.06</td>\n",
       "      <td>NaN</td>\n",
       "      <td>87</td>\n",
       "    </tr>\n",
       "    <tr>\n",
       "      <th>1</th>\n",
       "      <td>5835</td>\n",
       "      <td>26-01-2035</td>\n",
       "      <td>741</td>\n",
       "      <td>1040</td>\n",
       "      <td>Book J</td>\n",
       "      <td>18</td>\n",
       "      <td>193.27</td>\n",
       "      <td>4386.52</td>\n",
       "      <td>debit card</td>\n",
       "      <td>69</td>\n",
       "    </tr>\n",
       "    <tr>\n",
       "      <th>2</th>\n",
       "      <td>2123</td>\n",
       "      <td>05/26/2035</td>\n",
       "      <td>933</td>\n",
       "      <td>1062</td>\n",
       "      <td>Bok N</td>\n",
       "      <td>5</td>\n",
       "      <td>126.39</td>\n",
       "      <td>1948.46</td>\n",
       "      <td>Cash</td>\n",
       "      <td>15</td>\n",
       "    </tr>\n",
       "    <tr>\n",
       "      <th>3</th>\n",
       "      <td>8789</td>\n",
       "      <td>28-02-2036</td>\n",
       "      <td>641</td>\n",
       "      <td>1060</td>\n",
       "      <td>Book I</td>\n",
       "      <td>6</td>\n",
       "      <td>66.98</td>\n",
       "      <td>1757.26</td>\n",
       "      <td>Cash</td>\n",
       "      <td>22</td>\n",
       "    </tr>\n",
       "    <tr>\n",
       "      <th>4</th>\n",
       "      <td>305</td>\n",
       "      <td>19-04-2023</td>\n",
       "      <td>123</td>\n",
       "      <td>1058</td>\n",
       "      <td>Book B</td>\n",
       "      <td>15</td>\n",
       "      <td>33.63</td>\n",
       "      <td>2578.19</td>\n",
       "      <td>Cash</td>\n",
       "      <td>-1</td>\n",
       "    </tr>\n",
       "    <tr>\n",
       "      <th>5</th>\n",
       "      <td>2532</td>\n",
       "      <td>19-08-2032</td>\n",
       "      <td>185</td>\n",
       "      <td>1090</td>\n",
       "      <td>Bok N</td>\n",
       "      <td>12</td>\n",
       "      <td>102.69</td>\n",
       "      <td>488.23</td>\n",
       "      <td>NaN</td>\n",
       "      <td>54</td>\n",
       "    </tr>\n",
       "    <tr>\n",
       "      <th>6</th>\n",
       "      <td>2996</td>\n",
       "      <td>04/03/2031</td>\n",
       "      <td>571</td>\n",
       "      <td>1086</td>\n",
       "      <td>Book D</td>\n",
       "      <td>15</td>\n",
       "      <td>176.27</td>\n",
       "      <td>4822.26</td>\n",
       "      <td>Cash</td>\n",
       "      <td>-4</td>\n",
       "    </tr>\n",
       "    <tr>\n",
       "      <th>7</th>\n",
       "      <td>7660</td>\n",
       "      <td>27-02-2031</td>\n",
       "      <td>172</td>\n",
       "      <td>1012</td>\n",
       "      <td>Book P</td>\n",
       "      <td>12</td>\n",
       "      <td>44.51</td>\n",
       "      <td>4966.85</td>\n",
       "      <td>Cash</td>\n",
       "      <td>82</td>\n",
       "    </tr>\n",
       "    <tr>\n",
       "      <th>8</th>\n",
       "      <td>8225</td>\n",
       "      <td>26-05-2026</td>\n",
       "      <td>342</td>\n",
       "      <td>1098</td>\n",
       "      <td>Book P</td>\n",
       "      <td>11</td>\n",
       "      <td>72.57</td>\n",
       "      <td>4920.76</td>\n",
       "      <td>NaN</td>\n",
       "      <td>51</td>\n",
       "    </tr>\n",
       "    <tr>\n",
       "      <th>9</th>\n",
       "      <td>4449</td>\n",
       "      <td>02/05/2030</td>\n",
       "      <td>614</td>\n",
       "      <td>1086</td>\n",
       "      <td>Book M</td>\n",
       "      <td>5</td>\n",
       "      <td>15.67</td>\n",
       "      <td>714.58</td>\n",
       "      <td>Debit</td>\n",
       "      <td>95</td>\n",
       "    </tr>\n",
       "  </tbody>\n",
       "</table>\n",
       "</div>"
      ],
      "text/plain": [
       "   TrnsnID        Data  CusmrID  ProdtID ProdtName  Qutity   Prize  TtlSales  \\\n",
       "0     7402  03/17/2026      991     1045     Boo E       9  167.72   2935.06   \n",
       "1     5835  26-01-2035      741     1040    Book J      18  193.27   4386.52   \n",
       "2     2123  05/26/2035      933     1062     Bok N       5  126.39   1948.46   \n",
       "3     8789  28-02-2036      641     1060    Book I       6   66.98   1757.26   \n",
       "4      305  19-04-2023      123     1058    Book B      15   33.63   2578.19   \n",
       "5     2532  19-08-2032      185     1090     Bok N      12  102.69    488.23   \n",
       "6     2996  04/03/2031      571     1086    Book D      15  176.27   4822.26   \n",
       "7     7660  27-02-2031      172     1012    Book P      12   44.51   4966.85   \n",
       "8     8225  26-05-2026      342     1098    Book P      11   72.57   4920.76   \n",
       "9     4449  02/05/2030      614     1086    Book M       5   15.67    714.58   \n",
       "\n",
       "  PaymentType  CusterAge  \n",
       "0         NaN         87  \n",
       "1  debit card         69  \n",
       "2        Cash         15  \n",
       "3        Cash         22  \n",
       "4        Cash         -1  \n",
       "5         NaN         54  \n",
       "6        Cash         -4  \n",
       "7        Cash         82  \n",
       "8         NaN         51  \n",
       "9       Debit         95  "
      ]
     },
     "execution_count": 10,
     "metadata": {},
     "output_type": "execute_result"
    }
   ],
   "source": [
    "df.head(10)"
   ]
  },
  {
   "cell_type": "code",
   "execution_count": 11,
   "id": "9b4637c6",
   "metadata": {},
   "outputs": [],
   "source": [
    "# The Backfill method was used, because the first data on the PaymentType is null, \n",
    "# I considered it best to use the backfill method, using ffill will not solve the null value in this column.\n",
    "df.fillna(method=\"bfill\", inplace=True)"
   ]
  },
  {
   "cell_type": "code",
   "execution_count": 12,
   "id": "ed37414c",
   "metadata": {},
   "outputs": [
    {
     "data": {
      "text/plain": [
       "TrnsnID        0\n",
       "Data           0\n",
       "CusmrID        0\n",
       "ProdtID        0\n",
       "ProdtName      0\n",
       "Qutity         0\n",
       "Prize          0\n",
       "TtlSales       0\n",
       "PaymentType    0\n",
       "CusterAge      0\n",
       "dtype: int64"
      ]
     },
     "execution_count": 12,
     "metadata": {},
     "output_type": "execute_result"
    }
   ],
   "source": [
    "df.isna().sum()"
   ]
  },
  {
   "cell_type": "markdown",
   "id": "aa03cef8",
   "metadata": {},
   "source": [
    "# Consistent Date Format"
   ]
  },
  {
   "cell_type": "code",
   "execution_count": 13,
   "id": "e0448488",
   "metadata": {},
   "outputs": [
    {
     "data": {
      "text/html": [
       "<div>\n",
       "<style scoped>\n",
       "    .dataframe tbody tr th:only-of-type {\n",
       "        vertical-align: middle;\n",
       "    }\n",
       "\n",
       "    .dataframe tbody tr th {\n",
       "        vertical-align: top;\n",
       "    }\n",
       "\n",
       "    .dataframe thead th {\n",
       "        text-align: right;\n",
       "    }\n",
       "</style>\n",
       "<table border=\"1\" class=\"dataframe\">\n",
       "  <thead>\n",
       "    <tr style=\"text-align: right;\">\n",
       "      <th></th>\n",
       "      <th>TrnsnID</th>\n",
       "      <th>Data</th>\n",
       "      <th>CusmrID</th>\n",
       "      <th>ProdtID</th>\n",
       "      <th>ProdtName</th>\n",
       "      <th>Qutity</th>\n",
       "      <th>Prize</th>\n",
       "      <th>TtlSales</th>\n",
       "      <th>PaymentType</th>\n",
       "      <th>CusterAge</th>\n",
       "    </tr>\n",
       "  </thead>\n",
       "  <tbody>\n",
       "    <tr>\n",
       "      <th>8756</th>\n",
       "      <td>2397</td>\n",
       "      <td>06/29/2024</td>\n",
       "      <td>503</td>\n",
       "      <td>1007</td>\n",
       "      <td>Book O</td>\n",
       "      <td>10</td>\n",
       "      <td>36.71</td>\n",
       "      <td>3282.05</td>\n",
       "      <td>debit card</td>\n",
       "      <td>96</td>\n",
       "    </tr>\n",
       "    <tr>\n",
       "      <th>8862</th>\n",
       "      <td>1467</td>\n",
       "      <td>05/22/2032</td>\n",
       "      <td>797</td>\n",
       "      <td>1085</td>\n",
       "      <td>Book O</td>\n",
       "      <td>-1</td>\n",
       "      <td>69.79</td>\n",
       "      <td>3347.74</td>\n",
       "      <td>Debit</td>\n",
       "      <td>24</td>\n",
       "    </tr>\n",
       "    <tr>\n",
       "      <th>1460</th>\n",
       "      <td>4053</td>\n",
       "      <td>15-02-2027</td>\n",
       "      <td>396</td>\n",
       "      <td>1057</td>\n",
       "      <td>Book M</td>\n",
       "      <td>17</td>\n",
       "      <td>97.37</td>\n",
       "      <td>4320.00</td>\n",
       "      <td>Credit</td>\n",
       "      <td>76</td>\n",
       "    </tr>\n",
       "    <tr>\n",
       "      <th>2222</th>\n",
       "      <td>9301</td>\n",
       "      <td>24-08-2026</td>\n",
       "      <td>907</td>\n",
       "      <td>1015</td>\n",
       "      <td>Bookk H</td>\n",
       "      <td>-5</td>\n",
       "      <td>93.26</td>\n",
       "      <td>641.37</td>\n",
       "      <td>paypal</td>\n",
       "      <td>97</td>\n",
       "    </tr>\n",
       "  </tbody>\n",
       "</table>\n",
       "</div>"
      ],
      "text/plain": [
       "      TrnsnID        Data  CusmrID  ProdtID ProdtName  Qutity  Prize  \\\n",
       "8756     2397  06/29/2024      503     1007    Book O      10  36.71   \n",
       "8862     1467  05/22/2032      797     1085    Book O      -1  69.79   \n",
       "1460     4053  15-02-2027      396     1057    Book M      17  97.37   \n",
       "2222     9301  24-08-2026      907     1015   Bookk H      -5  93.26   \n",
       "\n",
       "      TtlSales PaymentType  CusterAge  \n",
       "8756   3282.05  debit card         96  \n",
       "8862   3347.74       Debit         24  \n",
       "1460   4320.00      Credit         76  \n",
       "2222    641.37      paypal         97  "
      ]
     },
     "execution_count": 13,
     "metadata": {},
     "output_type": "execute_result"
    }
   ],
   "source": [
    "df.sample(n=4)"
   ]
  },
  {
   "cell_type": "code",
   "execution_count": 14,
   "id": "945bb2ca",
   "metadata": {},
   "outputs": [
    {
     "data": {
      "text/html": [
       "<div>\n",
       "<style scoped>\n",
       "    .dataframe tbody tr th:only-of-type {\n",
       "        vertical-align: middle;\n",
       "    }\n",
       "\n",
       "    .dataframe tbody tr th {\n",
       "        vertical-align: top;\n",
       "    }\n",
       "\n",
       "    .dataframe thead th {\n",
       "        text-align: right;\n",
       "    }\n",
       "</style>\n",
       "<table border=\"1\" class=\"dataframe\">\n",
       "  <thead>\n",
       "    <tr style=\"text-align: right;\">\n",
       "      <th></th>\n",
       "      <th>TrnsnID</th>\n",
       "      <th>Data</th>\n",
       "      <th>CusmrID</th>\n",
       "      <th>ProdtID</th>\n",
       "      <th>ProdtName</th>\n",
       "      <th>Qutity</th>\n",
       "      <th>Prize</th>\n",
       "      <th>TtlSales</th>\n",
       "      <th>PaymentType</th>\n",
       "      <th>CusterAge</th>\n",
       "    </tr>\n",
       "  </thead>\n",
       "  <tbody>\n",
       "    <tr>\n",
       "      <th>0</th>\n",
       "      <td>7402</td>\n",
       "      <td>2026-03-17</td>\n",
       "      <td>991</td>\n",
       "      <td>1045</td>\n",
       "      <td>Boo E</td>\n",
       "      <td>9</td>\n",
       "      <td>167.72</td>\n",
       "      <td>2935.06</td>\n",
       "      <td>debit card</td>\n",
       "      <td>87</td>\n",
       "    </tr>\n",
       "    <tr>\n",
       "      <th>1</th>\n",
       "      <td>5835</td>\n",
       "      <td>2035-01-26</td>\n",
       "      <td>741</td>\n",
       "      <td>1040</td>\n",
       "      <td>Book J</td>\n",
       "      <td>18</td>\n",
       "      <td>193.27</td>\n",
       "      <td>4386.52</td>\n",
       "      <td>debit card</td>\n",
       "      <td>69</td>\n",
       "    </tr>\n",
       "    <tr>\n",
       "      <th>2</th>\n",
       "      <td>2123</td>\n",
       "      <td>2035-05-26</td>\n",
       "      <td>933</td>\n",
       "      <td>1062</td>\n",
       "      <td>Bok N</td>\n",
       "      <td>5</td>\n",
       "      <td>126.39</td>\n",
       "      <td>1948.46</td>\n",
       "      <td>Cash</td>\n",
       "      <td>15</td>\n",
       "    </tr>\n",
       "    <tr>\n",
       "      <th>3</th>\n",
       "      <td>8789</td>\n",
       "      <td>2036-02-28</td>\n",
       "      <td>641</td>\n",
       "      <td>1060</td>\n",
       "      <td>Book I</td>\n",
       "      <td>6</td>\n",
       "      <td>66.98</td>\n",
       "      <td>1757.26</td>\n",
       "      <td>Cash</td>\n",
       "      <td>22</td>\n",
       "    </tr>\n",
       "    <tr>\n",
       "      <th>4</th>\n",
       "      <td>305</td>\n",
       "      <td>2023-04-19</td>\n",
       "      <td>123</td>\n",
       "      <td>1058</td>\n",
       "      <td>Book B</td>\n",
       "      <td>15</td>\n",
       "      <td>33.63</td>\n",
       "      <td>2578.19</td>\n",
       "      <td>Cash</td>\n",
       "      <td>-1</td>\n",
       "    </tr>\n",
       "    <tr>\n",
       "      <th>...</th>\n",
       "      <td>...</td>\n",
       "      <td>...</td>\n",
       "      <td>...</td>\n",
       "      <td>...</td>\n",
       "      <td>...</td>\n",
       "      <td>...</td>\n",
       "      <td>...</td>\n",
       "      <td>...</td>\n",
       "      <td>...</td>\n",
       "      <td>...</td>\n",
       "    </tr>\n",
       "    <tr>\n",
       "      <th>10095</th>\n",
       "      <td>5735</td>\n",
       "      <td>2027-04-03</td>\n",
       "      <td>52</td>\n",
       "      <td>1066</td>\n",
       "      <td>Book G</td>\n",
       "      <td>1</td>\n",
       "      <td>191.41</td>\n",
       "      <td>2788.25</td>\n",
       "      <td>Credit Card</td>\n",
       "      <td>91</td>\n",
       "    </tr>\n",
       "    <tr>\n",
       "      <th>10096</th>\n",
       "      <td>5192</td>\n",
       "      <td>2025-08-16</td>\n",
       "      <td>334</td>\n",
       "      <td>1093</td>\n",
       "      <td>Bok N</td>\n",
       "      <td>-2</td>\n",
       "      <td>186.16</td>\n",
       "      <td>1187.53</td>\n",
       "      <td>paypal</td>\n",
       "      <td>50</td>\n",
       "    </tr>\n",
       "    <tr>\n",
       "      <th>10097</th>\n",
       "      <td>5391</td>\n",
       "      <td>2026-06-18</td>\n",
       "      <td>657</td>\n",
       "      <td>1047</td>\n",
       "      <td>Bookk H</td>\n",
       "      <td>5</td>\n",
       "      <td>84.38</td>\n",
       "      <td>2119.76</td>\n",
       "      <td>debit card</td>\n",
       "      <td>63</td>\n",
       "    </tr>\n",
       "    <tr>\n",
       "      <th>10098</th>\n",
       "      <td>861</td>\n",
       "      <td>2034-04-08</td>\n",
       "      <td>579</td>\n",
       "      <td>1014</td>\n",
       "      <td>Bok N</td>\n",
       "      <td>19</td>\n",
       "      <td>137.58</td>\n",
       "      <td>1708.87</td>\n",
       "      <td>Debit</td>\n",
       "      <td>-7</td>\n",
       "    </tr>\n",
       "    <tr>\n",
       "      <th>10099</th>\n",
       "      <td>7271</td>\n",
       "      <td>2029-04-26</td>\n",
       "      <td>153</td>\n",
       "      <td>1052</td>\n",
       "      <td>Book T</td>\n",
       "      <td>10</td>\n",
       "      <td>159.98</td>\n",
       "      <td>2743.67</td>\n",
       "      <td>debit card</td>\n",
       "      <td>77</td>\n",
       "    </tr>\n",
       "  </tbody>\n",
       "</table>\n",
       "<p>10000 rows × 10 columns</p>\n",
       "</div>"
      ],
      "text/plain": [
       "       TrnsnID       Data  CusmrID  ProdtID ProdtName  Qutity   Prize  \\\n",
       "0         7402 2026-03-17      991     1045     Boo E       9  167.72   \n",
       "1         5835 2035-01-26      741     1040    Book J      18  193.27   \n",
       "2         2123 2035-05-26      933     1062     Bok N       5  126.39   \n",
       "3         8789 2036-02-28      641     1060    Book I       6   66.98   \n",
       "4          305 2023-04-19      123     1058    Book B      15   33.63   \n",
       "...        ...        ...      ...      ...       ...     ...     ...   \n",
       "10095     5735 2027-04-03       52     1066    Book G       1  191.41   \n",
       "10096     5192 2025-08-16      334     1093     Bok N      -2  186.16   \n",
       "10097     5391 2026-06-18      657     1047   Bookk H       5   84.38   \n",
       "10098      861 2034-04-08      579     1014     Bok N      19  137.58   \n",
       "10099     7271 2029-04-26      153     1052    Book T      10  159.98   \n",
       "\n",
       "       TtlSales  PaymentType  CusterAge  \n",
       "0       2935.06   debit card         87  \n",
       "1       4386.52   debit card         69  \n",
       "2       1948.46         Cash         15  \n",
       "3       1757.26         Cash         22  \n",
       "4       2578.19         Cash         -1  \n",
       "...         ...          ...        ...  \n",
       "10095   2788.25  Credit Card         91  \n",
       "10096   1187.53       paypal         50  \n",
       "10097   2119.76   debit card         63  \n",
       "10098   1708.87        Debit         -7  \n",
       "10099   2743.67   debit card         77  \n",
       "\n",
       "[10000 rows x 10 columns]"
      ]
     },
     "execution_count": 14,
     "metadata": {},
     "output_type": "execute_result"
    }
   ],
   "source": [
    "# Using a Unified Date format\n",
    "df['Data'] = pd.to_datetime(df['Data'], format = 'mixed')\n",
    "df"
   ]
  },
  {
   "cell_type": "markdown",
   "id": "65a8c7b2",
   "metadata": {},
   "source": [
    "# Standardizing the payment type names "
   ]
  },
  {
   "cell_type": "code",
   "execution_count": 15,
   "id": "930d7b4c",
   "metadata": {},
   "outputs": [
    {
     "data": {
      "text/plain": [
       "4017    Credit Card\n",
       "792           Debit\n",
       "3976     debit card\n",
       "8423    Credit Card\n",
       "2275           Cash\n",
       "Name: PaymentType, dtype: object"
      ]
     },
     "execution_count": 15,
     "metadata": {},
     "output_type": "execute_result"
    }
   ],
   "source": [
    "df['PaymentType'].sample(n=5)"
   ]
  },
  {
   "cell_type": "code",
   "execution_count": 16,
   "id": "9baee7c3",
   "metadata": {},
   "outputs": [
    {
     "data": {
      "text/plain": [
       "0         Debit Card\n",
       "1         Debit Card\n",
       "2               Cash\n",
       "3               Cash\n",
       "4               Cash\n",
       "            ...     \n",
       "10095    Credit Card\n",
       "10096         Paypal\n",
       "10097     Debit Card\n",
       "10098     Debit Card\n",
       "10099     Debit Card\n",
       "Name: PaymentType, Length: 10000, dtype: object"
      ]
     },
     "execution_count": 16,
     "metadata": {},
     "output_type": "execute_result"
    }
   ],
   "source": [
    "# using the dictionary data structure to replace payment type names.\n",
    "df['PaymentType'] = df['PaymentType'].replace({\n",
    "    'paypal' : 'Paypal',\n",
    "    'debit card' : 'Debit Card',\n",
    "    'Debit' : 'Debit Card',\n",
    "    'Credit' : 'Credit Card',\n",
    "    \n",
    "})\n",
    "df['PaymentType']"
   ]
  },
  {
   "cell_type": "code",
   "execution_count": 267,
   "id": "ff8cdad8",
   "metadata": {},
   "outputs": [
    {
     "data": {
      "text/plain": [
       "6592    Credit Card\n",
       "4097         Paypal\n",
       "8471     Debit Card\n",
       "4647    Credit Card\n",
       "1257     Debit Card\n",
       "Name: PaymentType, dtype: object"
      ]
     },
     "execution_count": 267,
     "metadata": {},
     "output_type": "execute_result"
    }
   ],
   "source": [
    "df['PaymentType'].sample(n=5)"
   ]
  },
  {
   "cell_type": "markdown",
   "id": "8c619228",
   "metadata": {},
   "source": [
    "# Identifying and stripping off the negative values"
   ]
  },
  {
   "cell_type": "code",
   "execution_count": 347,
   "id": "0a06999a",
   "metadata": {},
   "outputs": [
    {
     "data": {
      "text/plain": [
       "Index(['TrnsnID', 'CusmrID', 'ProdtID', 'Qutity', 'Prize', 'TtlSales',\n",
       "       'CusterAge'],\n",
       "      dtype='object')"
      ]
     },
     "execution_count": 347,
     "metadata": {},
     "output_type": "execute_result"
    }
   ],
   "source": [
    "# Identifying the numeric columns\n",
    "import numpy as np\n",
    "numeric_columns = df.select_dtypes(include=['int', 'float']).columns\n",
    "\n",
    "numeric_columns"
   ]
  },
  {
   "cell_type": "code",
   "execution_count": 290,
   "id": "9b556a8c",
   "metadata": {},
   "outputs": [
    {
     "data": {
      "text/plain": [
       "TrnsnID           0.0\n",
       "Data              0.0\n",
       "CusmrID           0.0\n",
       "ProdtID           0.0\n",
       "ProdtName         0.0\n",
       "Qutity        -5830.0\n",
       "Prize             0.0\n",
       "TtlSales          0.0\n",
       "PaymentType       0.0\n",
       "CusterAge     -5280.0\n",
       "dtype: float64"
      ]
     },
     "execution_count": 290,
     "metadata": {},
     "output_type": "execute_result"
    }
   ],
   "source": [
    "# Identifying the negative values\n",
    "df = df.apply(pd.to_numeric, errors='coerce')\n",
    "\n",
    "negative_values = df[df < 0]\n",
    "\n",
    "negative_values.sum()"
   ]
  },
  {
   "cell_type": "code",
   "execution_count": 348,
   "id": "a9fe3b14",
   "metadata": {},
   "outputs": [
    {
     "data": {
      "text/html": [
       "<div>\n",
       "<style scoped>\n",
       "    .dataframe tbody tr th:only-of-type {\n",
       "        vertical-align: middle;\n",
       "    }\n",
       "\n",
       "    .dataframe tbody tr th {\n",
       "        vertical-align: top;\n",
       "    }\n",
       "\n",
       "    .dataframe thead th {\n",
       "        text-align: right;\n",
       "    }\n",
       "</style>\n",
       "<table border=\"1\" class=\"dataframe\">\n",
       "  <thead>\n",
       "    <tr style=\"text-align: right;\">\n",
       "      <th></th>\n",
       "      <th>TrnsnID</th>\n",
       "      <th>Data</th>\n",
       "      <th>CusmrID</th>\n",
       "      <th>ProdtID</th>\n",
       "      <th>ProdtName</th>\n",
       "      <th>Qutity</th>\n",
       "      <th>Prize</th>\n",
       "      <th>TtlSales</th>\n",
       "      <th>PaymentType</th>\n",
       "      <th>CusterAge</th>\n",
       "    </tr>\n",
       "  </thead>\n",
       "  <tbody>\n",
       "    <tr>\n",
       "      <th>4726</th>\n",
       "      <td>7390</td>\n",
       "      <td>11-04-2030</td>\n",
       "      <td>247</td>\n",
       "      <td>1060</td>\n",
       "      <td>Bok N</td>\n",
       "      <td>6</td>\n",
       "      <td>197.76</td>\n",
       "      <td>3997.59</td>\n",
       "      <td>Paypal</td>\n",
       "      <td>-1</td>\n",
       "    </tr>\n",
       "    <tr>\n",
       "      <th>3864</th>\n",
       "      <td>4380</td>\n",
       "      <td>08-04-2035</td>\n",
       "      <td>503</td>\n",
       "      <td>1075</td>\n",
       "      <td>Book S</td>\n",
       "      <td>2</td>\n",
       "      <td>133.11</td>\n",
       "      <td>3127.95</td>\n",
       "      <td>Cash</td>\n",
       "      <td>4</td>\n",
       "    </tr>\n",
       "    <tr>\n",
       "      <th>8110</th>\n",
       "      <td>8865</td>\n",
       "      <td>10/24/2033</td>\n",
       "      <td>274</td>\n",
       "      <td>1086</td>\n",
       "      <td>Book J</td>\n",
       "      <td>9</td>\n",
       "      <td>19.09</td>\n",
       "      <td>2729.50</td>\n",
       "      <td>Credit Card</td>\n",
       "      <td>54</td>\n",
       "    </tr>\n",
       "    <tr>\n",
       "      <th>6239</th>\n",
       "      <td>6493</td>\n",
       "      <td>11/25/2033</td>\n",
       "      <td>503</td>\n",
       "      <td>1025</td>\n",
       "      <td>Book O</td>\n",
       "      <td>2</td>\n",
       "      <td>98.14</td>\n",
       "      <td>4751.23</td>\n",
       "      <td>Cash</td>\n",
       "      <td>52</td>\n",
       "    </tr>\n",
       "  </tbody>\n",
       "</table>\n",
       "</div>"
      ],
      "text/plain": [
       "      TrnsnID        Data  CusmrID  ProdtID ProdtName  Qutity   Prize  \\\n",
       "4726     7390  11-04-2030      247     1060     Bok N       6  197.76   \n",
       "3864     4380  08-04-2035      503     1075    Book S       2  133.11   \n",
       "8110     8865  10/24/2033      274     1086    Book J       9   19.09   \n",
       "6239     6493  11/25/2033      503     1025    Book O       2   98.14   \n",
       "\n",
       "      TtlSales  PaymentType  CusterAge  \n",
       "4726   3997.59       Paypal         -1  \n",
       "3864   3127.95         Cash          4  \n",
       "8110   2729.50  Credit Card         54  \n",
       "6239   4751.23         Cash         52  "
      ]
     },
     "execution_count": 348,
     "metadata": {},
     "output_type": "execute_result"
    }
   ],
   "source": [
    "# striping off the negative values\n",
    "df['Qutity'] = df['Qutity'].abs()\n",
    "\n",
    "# Print the updated DataFrame\n",
    "df.sample(n=4)"
   ]
  },
  {
   "cell_type": "code",
   "execution_count": 349,
   "id": "890be938",
   "metadata": {},
   "outputs": [
    {
     "data": {
      "text/html": [
       "<div>\n",
       "<style scoped>\n",
       "    .dataframe tbody tr th:only-of-type {\n",
       "        vertical-align: middle;\n",
       "    }\n",
       "\n",
       "    .dataframe tbody tr th {\n",
       "        vertical-align: top;\n",
       "    }\n",
       "\n",
       "    .dataframe thead th {\n",
       "        text-align: right;\n",
       "    }\n",
       "</style>\n",
       "<table border=\"1\" class=\"dataframe\">\n",
       "  <thead>\n",
       "    <tr style=\"text-align: right;\">\n",
       "      <th></th>\n",
       "      <th>TrnsnID</th>\n",
       "      <th>Data</th>\n",
       "      <th>CusmrID</th>\n",
       "      <th>ProdtID</th>\n",
       "      <th>ProdtName</th>\n",
       "      <th>Qutity</th>\n",
       "      <th>Prize</th>\n",
       "      <th>TtlSales</th>\n",
       "      <th>PaymentType</th>\n",
       "      <th>CusterAge</th>\n",
       "    </tr>\n",
       "  </thead>\n",
       "  <tbody>\n",
       "    <tr>\n",
       "      <th>1559</th>\n",
       "      <td>3990</td>\n",
       "      <td>02-10-2026</td>\n",
       "      <td>132</td>\n",
       "      <td>1089</td>\n",
       "      <td>Book K</td>\n",
       "      <td>1</td>\n",
       "      <td>17.69</td>\n",
       "      <td>2165.18</td>\n",
       "      <td>Debit Card</td>\n",
       "      <td>58</td>\n",
       "    </tr>\n",
       "    <tr>\n",
       "      <th>9648</th>\n",
       "      <td>5388</td>\n",
       "      <td>09-05-2028</td>\n",
       "      <td>121</td>\n",
       "      <td>1070</td>\n",
       "      <td>Book S</td>\n",
       "      <td>0</td>\n",
       "      <td>98.12</td>\n",
       "      <td>3403.81</td>\n",
       "      <td>Cash</td>\n",
       "      <td>47</td>\n",
       "    </tr>\n",
       "    <tr>\n",
       "      <th>8161</th>\n",
       "      <td>4518</td>\n",
       "      <td>16-03-2026</td>\n",
       "      <td>684</td>\n",
       "      <td>1014</td>\n",
       "      <td>Book D</td>\n",
       "      <td>12</td>\n",
       "      <td>191.70</td>\n",
       "      <td>1474.98</td>\n",
       "      <td>Debit Card</td>\n",
       "      <td>7</td>\n",
       "    </tr>\n",
       "    <tr>\n",
       "      <th>3712</th>\n",
       "      <td>6316</td>\n",
       "      <td>11/23/2029</td>\n",
       "      <td>566</td>\n",
       "      <td>1052</td>\n",
       "      <td>Bok N</td>\n",
       "      <td>8</td>\n",
       "      <td>139.25</td>\n",
       "      <td>3888.96</td>\n",
       "      <td>Paypal</td>\n",
       "      <td>69</td>\n",
       "    </tr>\n",
       "  </tbody>\n",
       "</table>\n",
       "</div>"
      ],
      "text/plain": [
       "      TrnsnID        Data  CusmrID  ProdtID ProdtName  Qutity   Prize  \\\n",
       "1559     3990  02-10-2026      132     1089    Book K       1   17.69   \n",
       "9648     5388  09-05-2028      121     1070    Book S       0   98.12   \n",
       "8161     4518  16-03-2026      684     1014    Book D      12  191.70   \n",
       "3712     6316  11/23/2029      566     1052     Bok N       8  139.25   \n",
       "\n",
       "      TtlSales PaymentType  CusterAge  \n",
       "1559   2165.18  Debit Card         58  \n",
       "9648   3403.81        Cash         47  \n",
       "8161   1474.98  Debit Card          7  \n",
       "3712   3888.96      Paypal         69  "
      ]
     },
     "execution_count": 349,
     "metadata": {},
     "output_type": "execute_result"
    }
   ],
   "source": [
    "# striping off the negative values\n",
    "df['CusterAge'] = df['CusterAge'].abs()\n",
    "\n",
    "# Print the updated DataFrame\n",
    "df.sample(n=4)"
   ]
  },
  {
   "cell_type": "code",
   "execution_count": 350,
   "id": "e1b52caf",
   "metadata": {},
   "outputs": [
    {
     "data": {
      "text/plain": [
       "447"
      ]
     },
     "execution_count": 350,
     "metadata": {},
     "output_type": "execute_result"
    }
   ],
   "source": [
    "# Identifying the Zero values in Quantity\n",
    "zero_values = df['Qutity'] == 0\n",
    "zero_values.sum()"
   ]
  },
  {
   "cell_type": "code",
   "execution_count": 351,
   "id": "614a4f67",
   "metadata": {},
   "outputs": [
    {
     "data": {
      "text/plain": [
       "0         9.0\n",
       "1        18.0\n",
       "2         5.0\n",
       "3         6.0\n",
       "4        15.0\n",
       "         ... \n",
       "10095     1.0\n",
       "10096     2.0\n",
       "10097     5.0\n",
       "10098    19.0\n",
       "10099    10.0\n",
       "Name: Qutity, Length: 10000, dtype: float64"
      ]
     },
     "execution_count": 351,
     "metadata": {},
     "output_type": "execute_result"
    }
   ],
   "source": [
    "df['Qutity'] = df['Qutity'].replace(0, np.nan)\n",
    "df['Qutity'] = df['Qutity'].fillna(df['Qutity'].mean())\n",
    "df['Qutity']"
   ]
  },
  {
   "cell_type": "markdown",
   "id": "4cafe2ed",
   "metadata": {},
   "source": [
    "# Identifying unrealistic values in columns \n"
   ]
  },
  {
   "cell_type": "code",
   "execution_count": 352,
   "id": "b1d014f3",
   "metadata": {},
   "outputs": [
    {
     "data": {
      "text/html": [
       "<div>\n",
       "<style scoped>\n",
       "    .dataframe tbody tr th:only-of-type {\n",
       "        vertical-align: middle;\n",
       "    }\n",
       "\n",
       "    .dataframe tbody tr th {\n",
       "        vertical-align: top;\n",
       "    }\n",
       "\n",
       "    .dataframe thead th {\n",
       "        text-align: right;\n",
       "    }\n",
       "</style>\n",
       "<table border=\"1\" class=\"dataframe\">\n",
       "  <thead>\n",
       "    <tr style=\"text-align: right;\">\n",
       "      <th></th>\n",
       "      <th>Qutity</th>\n",
       "      <th>Prize</th>\n",
       "      <th>TtlSales</th>\n",
       "    </tr>\n",
       "  </thead>\n",
       "  <tbody>\n",
       "    <tr>\n",
       "      <th>0</th>\n",
       "      <td>9.0</td>\n",
       "      <td>167.72</td>\n",
       "      <td>2935.06</td>\n",
       "    </tr>\n",
       "    <tr>\n",
       "      <th>1</th>\n",
       "      <td>18.0</td>\n",
       "      <td>193.27</td>\n",
       "      <td>4386.52</td>\n",
       "    </tr>\n",
       "    <tr>\n",
       "      <th>2</th>\n",
       "      <td>5.0</td>\n",
       "      <td>126.39</td>\n",
       "      <td>1948.46</td>\n",
       "    </tr>\n",
       "    <tr>\n",
       "      <th>3</th>\n",
       "      <td>6.0</td>\n",
       "      <td>66.98</td>\n",
       "      <td>1757.26</td>\n",
       "    </tr>\n",
       "    <tr>\n",
       "      <th>4</th>\n",
       "      <td>15.0</td>\n",
       "      <td>33.63</td>\n",
       "      <td>2578.19</td>\n",
       "    </tr>\n",
       "    <tr>\n",
       "      <th>...</th>\n",
       "      <td>...</td>\n",
       "      <td>...</td>\n",
       "      <td>...</td>\n",
       "    </tr>\n",
       "    <tr>\n",
       "      <th>10095</th>\n",
       "      <td>1.0</td>\n",
       "      <td>191.41</td>\n",
       "      <td>2788.25</td>\n",
       "    </tr>\n",
       "    <tr>\n",
       "      <th>10096</th>\n",
       "      <td>2.0</td>\n",
       "      <td>186.16</td>\n",
       "      <td>1187.53</td>\n",
       "    </tr>\n",
       "    <tr>\n",
       "      <th>10097</th>\n",
       "      <td>5.0</td>\n",
       "      <td>84.38</td>\n",
       "      <td>2119.76</td>\n",
       "    </tr>\n",
       "    <tr>\n",
       "      <th>10098</th>\n",
       "      <td>19.0</td>\n",
       "      <td>137.58</td>\n",
       "      <td>1708.87</td>\n",
       "    </tr>\n",
       "    <tr>\n",
       "      <th>10099</th>\n",
       "      <td>10.0</td>\n",
       "      <td>159.98</td>\n",
       "      <td>2743.67</td>\n",
       "    </tr>\n",
       "  </tbody>\n",
       "</table>\n",
       "<p>10000 rows × 3 columns</p>\n",
       "</div>"
      ],
      "text/plain": [
       "       Qutity   Prize  TtlSales\n",
       "0         9.0  167.72   2935.06\n",
       "1        18.0  193.27   4386.52\n",
       "2         5.0  126.39   1948.46\n",
       "3         6.0   66.98   1757.26\n",
       "4        15.0   33.63   2578.19\n",
       "...       ...     ...       ...\n",
       "10095     1.0  191.41   2788.25\n",
       "10096     2.0  186.16   1187.53\n",
       "10097     5.0   84.38   2119.76\n",
       "10098    19.0  137.58   1708.87\n",
       "10099    10.0  159.98   2743.67\n",
       "\n",
       "[10000 rows x 3 columns]"
      ]
     },
     "execution_count": 352,
     "metadata": {},
     "output_type": "execute_result"
    }
   ],
   "source": [
    "df[['Qutity', 'Prize', 'TtlSales']]"
   ]
  },
  {
   "cell_type": "code",
   "execution_count": 353,
   "id": "fcdc04a8",
   "metadata": {},
   "outputs": [
    {
     "data": {
      "text/plain": [
       "0    1509.48\n",
       "1    3478.86\n",
       "2     631.95\n",
       "3     401.88\n",
       "4     504.45\n",
       "dtype: float64"
      ]
     },
     "execution_count": 353,
     "metadata": {},
     "output_type": "execute_result"
    }
   ],
   "source": [
    "# Calculating total Sales from quantity and price\n",
    "calculated_sales = df['Qutity'] * df['Prize']\n",
    "calculated_sales.head(5)"
   ]
  },
  {
   "cell_type": "code",
   "execution_count": 354,
   "id": "5d4788fe",
   "metadata": {},
   "outputs": [
    {
     "data": {
      "text/plain": [
       "True    10000\n",
       "Name: count, dtype: int64"
      ]
     },
     "execution_count": 354,
     "metadata": {},
     "output_type": "execute_result"
    }
   ],
   "source": [
    "# Identifying rows where calculated sales doesn't match the total sales\n",
    "unrealistic_values = calculated_sales != df['TtlSales']\n",
    "\n",
    "unrealistic_values.value_counts()"
   ]
  },
  {
   "cell_type": "markdown",
   "id": "fe9d8062",
   "metadata": {},
   "source": [
    "# Correcting typos and textual errors"
   ]
  },
  {
   "cell_type": "code",
   "execution_count": 355,
   "id": "3b8c55bd",
   "metadata": {},
   "outputs": [
    {
     "data": {
      "text/plain": [
       "0    Book E\n",
       "1    Book J\n",
       "2    Book N\n",
       "3    Book I\n",
       "4    Book B\n",
       "Name: ProdtName, dtype: object"
      ]
     },
     "execution_count": 355,
     "metadata": {},
     "output_type": "execute_result"
    }
   ],
   "source": [
    "df['ProdtName'] = df['ProdtName'].replace({\n",
    "    'Boo E' : 'Book E',\n",
    "    'Bok N' : 'Book N',\n",
    "    'Bookk H' : 'Book H',\n",
    "})\n",
    "df['ProdtName'].head(5)"
   ]
  },
  {
   "cell_type": "markdown",
   "id": "d6029266",
   "metadata": {},
   "source": [
    "# Renaming the columns"
   ]
  },
  {
   "cell_type": "code",
   "execution_count": 356,
   "id": "8cbef17f",
   "metadata": {},
   "outputs": [
    {
     "data": {
      "text/html": [
       "<div>\n",
       "<style scoped>\n",
       "    .dataframe tbody tr th:only-of-type {\n",
       "        vertical-align: middle;\n",
       "    }\n",
       "\n",
       "    .dataframe tbody tr th {\n",
       "        vertical-align: top;\n",
       "    }\n",
       "\n",
       "    .dataframe thead th {\n",
       "        text-align: right;\n",
       "    }\n",
       "</style>\n",
       "<table border=\"1\" class=\"dataframe\">\n",
       "  <thead>\n",
       "    <tr style=\"text-align: right;\">\n",
       "      <th></th>\n",
       "      <th>TransactionID</th>\n",
       "      <th>Date</th>\n",
       "      <th>CustomerID</th>\n",
       "      <th>ProductID</th>\n",
       "      <th>ProductName</th>\n",
       "      <th>Quantity</th>\n",
       "      <th>Prize</th>\n",
       "      <th>TotalSales</th>\n",
       "      <th>PaymentType</th>\n",
       "      <th>CustomerAge</th>\n",
       "    </tr>\n",
       "  </thead>\n",
       "  <tbody>\n",
       "    <tr>\n",
       "      <th>8011</th>\n",
       "      <td>9666</td>\n",
       "      <td>06/01/2029</td>\n",
       "      <td>895</td>\n",
       "      <td>1077</td>\n",
       "      <td>Book F</td>\n",
       "      <td>19.0</td>\n",
       "      <td>93.26</td>\n",
       "      <td>2901.31</td>\n",
       "      <td>Paypal</td>\n",
       "      <td>86</td>\n",
       "    </tr>\n",
       "    <tr>\n",
       "      <th>8145</th>\n",
       "      <td>6599</td>\n",
       "      <td>07-02-2028</td>\n",
       "      <td>823</td>\n",
       "      <td>1078</td>\n",
       "      <td>Book G</td>\n",
       "      <td>13.0</td>\n",
       "      <td>52.41</td>\n",
       "      <td>672.10</td>\n",
       "      <td>Debit Card</td>\n",
       "      <td>7</td>\n",
       "    </tr>\n",
       "    <tr>\n",
       "      <th>4318</th>\n",
       "      <td>1565</td>\n",
       "      <td>09/04/2023</td>\n",
       "      <td>657</td>\n",
       "      <td>1051</td>\n",
       "      <td>Book B</td>\n",
       "      <td>5.0</td>\n",
       "      <td>102.53</td>\n",
       "      <td>4640.88</td>\n",
       "      <td>Debit Card</td>\n",
       "      <td>6</td>\n",
       "    </tr>\n",
       "  </tbody>\n",
       "</table>\n",
       "</div>"
      ],
      "text/plain": [
       "      TransactionID        Date  CustomerID  ProductID ProductName  Quantity  \\\n",
       "8011           9666  06/01/2029         895       1077      Book F      19.0   \n",
       "8145           6599  07-02-2028         823       1078      Book G      13.0   \n",
       "4318           1565  09/04/2023         657       1051      Book B       5.0   \n",
       "\n",
       "       Prize  TotalSales PaymentType  CustomerAge  \n",
       "8011   93.26     2901.31      Paypal           86  \n",
       "8145   52.41      672.10  Debit Card            7  \n",
       "4318  102.53     4640.88  Debit Card            6  "
      ]
     },
     "execution_count": 356,
     "metadata": {},
     "output_type": "execute_result"
    }
   ],
   "source": [
    "df = df.rename(columns={\n",
    "    'TrnsnID' : 'TransactionID',\n",
    "    'Data' : 'Date',\n",
    "    'CusmrID' : 'CustomerID',\n",
    "    'ProdtID' : 'ProductID',\n",
    "    'ProdtName' : 'ProductName',\n",
    "    'Qutity' : 'Quantity',\n",
    "    'TtlSales' : 'TotalSales',\n",
    "    'CusterAge' : 'CustomerAge'\n",
    "})\n",
    "df.sample(n=3)"
   ]
  },
  {
   "cell_type": "markdown",
   "id": "42c5c166",
   "metadata": {},
   "source": [
    "# Data Types: Ensuring each column is of the right data "
   ]
  },
  {
   "cell_type": "code",
   "execution_count": 357,
   "id": "d5bf2b2b",
   "metadata": {},
   "outputs": [
    {
     "name": "stdout",
     "output_type": "stream",
     "text": [
      "<class 'pandas.core.frame.DataFrame'>\n",
      "Index: 10000 entries, 0 to 10099\n",
      "Data columns (total 10 columns):\n",
      " #   Column         Non-Null Count  Dtype  \n",
      "---  ------         --------------  -----  \n",
      " 0   TransactionID  10000 non-null  int64  \n",
      " 1   Date           10000 non-null  object \n",
      " 2   CustomerID     10000 non-null  int64  \n",
      " 3   ProductID      10000 non-null  int64  \n",
      " 4   ProductName    10000 non-null  object \n",
      " 5   Quantity       10000 non-null  float64\n",
      " 6   Prize          10000 non-null  float64\n",
      " 7   TotalSales     10000 non-null  float64\n",
      " 8   PaymentType    10000 non-null  object \n",
      " 9   CustomerAge    10000 non-null  int64  \n",
      "dtypes: float64(3), int64(4), object(3)\n",
      "memory usage: 859.4+ KB\n"
     ]
    }
   ],
   "source": [
    "df.info()"
   ]
  },
  {
   "cell_type": "code",
   "execution_count": 358,
   "id": "b20bd25d",
   "metadata": {},
   "outputs": [
    {
     "name": "stdout",
     "output_type": "stream",
     "text": [
      "<class 'pandas.core.frame.DataFrame'>\n",
      "Index: 10000 entries, 0 to 10099\n",
      "Data columns (total 10 columns):\n",
      " #   Column         Non-Null Count  Dtype  \n",
      "---  ------         --------------  -----  \n",
      " 0   TransactionID  10000 non-null  int64  \n",
      " 1   Date           10000 non-null  object \n",
      " 2   CustomerID     10000 non-null  int64  \n",
      " 3   ProductID      10000 non-null  int64  \n",
      " 4   ProductName    10000 non-null  object \n",
      " 5   Quantity       10000 non-null  int32  \n",
      " 6   Prize          10000 non-null  float64\n",
      " 7   TotalSales     10000 non-null  float64\n",
      " 8   PaymentType    10000 non-null  object \n",
      " 9   CustomerAge    10000 non-null  int64  \n",
      "dtypes: float64(2), int32(1), int64(4), object(3)\n",
      "memory usage: 820.3+ KB\n"
     ]
    }
   ],
   "source": [
    "# Changing the datatype to integer\n",
    "df['Quantity'] = df['Quantity'].astype(int)\n",
    "df.info()"
   ]
  },
  {
   "cell_type": "code",
   "execution_count": 364,
   "id": "628cef57",
   "metadata": {},
   "outputs": [
    {
     "data": {
      "text/html": [
       "<div>\n",
       "<style scoped>\n",
       "    .dataframe tbody tr th:only-of-type {\n",
       "        vertical-align: middle;\n",
       "    }\n",
       "\n",
       "    .dataframe tbody tr th {\n",
       "        vertical-align: top;\n",
       "    }\n",
       "\n",
       "    .dataframe thead th {\n",
       "        text-align: right;\n",
       "    }\n",
       "</style>\n",
       "<table border=\"1\" class=\"dataframe\">\n",
       "  <thead>\n",
       "    <tr style=\"text-align: right;\">\n",
       "      <th></th>\n",
       "      <th>TransactionID</th>\n",
       "      <th>Date</th>\n",
       "      <th>CustomerID</th>\n",
       "      <th>ProductID</th>\n",
       "      <th>ProductName</th>\n",
       "      <th>Quantity</th>\n",
       "      <th>Prize</th>\n",
       "      <th>TotalSales</th>\n",
       "      <th>PaymentType</th>\n",
       "      <th>CustomerAge</th>\n",
       "    </tr>\n",
       "  </thead>\n",
       "  <tbody>\n",
       "    <tr>\n",
       "      <th>7999</th>\n",
       "      <td>6512</td>\n",
       "      <td>2029-08-19</td>\n",
       "      <td>905</td>\n",
       "      <td>1066</td>\n",
       "      <td>Book K</td>\n",
       "      <td>10</td>\n",
       "      <td>97.12</td>\n",
       "      <td>418.00</td>\n",
       "      <td>Debit Card</td>\n",
       "      <td>98</td>\n",
       "    </tr>\n",
       "    <tr>\n",
       "      <th>708</th>\n",
       "      <td>7610</td>\n",
       "      <td>2030-01-07</td>\n",
       "      <td>449</td>\n",
       "      <td>1091</td>\n",
       "      <td>Book E</td>\n",
       "      <td>2</td>\n",
       "      <td>132.61</td>\n",
       "      <td>876.73</td>\n",
       "      <td>Credit Card</td>\n",
       "      <td>16</td>\n",
       "    </tr>\n",
       "    <tr>\n",
       "      <th>5634</th>\n",
       "      <td>3983</td>\n",
       "      <td>2031-08-28</td>\n",
       "      <td>383</td>\n",
       "      <td>1033</td>\n",
       "      <td>Book R</td>\n",
       "      <td>3</td>\n",
       "      <td>35.53</td>\n",
       "      <td>554.08</td>\n",
       "      <td>Credit Card</td>\n",
       "      <td>11</td>\n",
       "    </tr>\n",
       "    <tr>\n",
       "      <th>2884</th>\n",
       "      <td>9078</td>\n",
       "      <td>2029-01-13</td>\n",
       "      <td>337</td>\n",
       "      <td>1071</td>\n",
       "      <td>Book N</td>\n",
       "      <td>8</td>\n",
       "      <td>79.90</td>\n",
       "      <td>2833.91</td>\n",
       "      <td>Credit Card</td>\n",
       "      <td>89</td>\n",
       "    </tr>\n",
       "  </tbody>\n",
       "</table>\n",
       "</div>"
      ],
      "text/plain": [
       "      TransactionID       Date  CustomerID  ProductID ProductName  Quantity  \\\n",
       "7999           6512 2029-08-19         905       1066      Book K        10   \n",
       "708            7610 2030-01-07         449       1091      Book E         2   \n",
       "5634           3983 2031-08-28         383       1033      Book R         3   \n",
       "2884           9078 2029-01-13         337       1071      Book N         8   \n",
       "\n",
       "       Prize  TotalSales  PaymentType  CustomerAge  \n",
       "7999   97.12      418.00   Debit Card           98  \n",
       "708   132.61      876.73  Credit Card           16  \n",
       "5634   35.53      554.08  Credit Card           11  \n",
       "2884   79.90     2833.91  Credit Card           89  "
      ]
     },
     "execution_count": 364,
     "metadata": {},
     "output_type": "execute_result"
    }
   ],
   "source": [
    "# Changing the data type to datetime with double format\n",
    "date_formats = ['%m/%d/%Y', '%d-%m-%Y']\n",
    "\n",
    "def convert_date(date_str):\n",
    "    for fmt in date_formats:\n",
    "        try:\n",
    "            return pd.to_datetime(date_str, format=fmt)\n",
    "        except ValueError:\n",
    "            continue\n",
    "    return pd.NaT # Return NaT if no valid date format is found\n",
    "\n",
    "# Convert Date Column Datatype to datetime\n",
    "df['Date'] = df['Date'].apply(convert_date)\n",
    "df.sample(n=4)"
   ]
  },
  {
   "cell_type": "code",
   "execution_count": 366,
   "id": "1340cae8",
   "metadata": {},
   "outputs": [
    {
     "name": "stdout",
     "output_type": "stream",
     "text": [
      "<class 'pandas.core.frame.DataFrame'>\n",
      "Index: 10000 entries, 0 to 10099\n",
      "Data columns (total 10 columns):\n",
      " #   Column         Non-Null Count  Dtype         \n",
      "---  ------         --------------  -----         \n",
      " 0   TransactionID  10000 non-null  int64         \n",
      " 1   Date           10000 non-null  datetime64[ns]\n",
      " 2   CustomerID     10000 non-null  int64         \n",
      " 3   ProductID      10000 non-null  int64         \n",
      " 4   ProductName    10000 non-null  object        \n",
      " 5   Quantity       10000 non-null  int32         \n",
      " 6   Prize          10000 non-null  float64       \n",
      " 7   TotalSales     10000 non-null  float64       \n",
      " 8   PaymentType    10000 non-null  object        \n",
      " 9   CustomerAge    10000 non-null  int64         \n",
      "dtypes: datetime64[ns](1), float64(2), int32(1), int64(4), object(2)\n",
      "memory usage: 820.3+ KB\n"
     ]
    }
   ],
   "source": [
    "df.info()"
   ]
  },
  {
   "cell_type": "code",
   "execution_count": null,
   "id": "97febc31",
   "metadata": {},
   "outputs": [],
   "source": []
  },
  {
   "cell_type": "code",
   "execution_count": null,
   "id": "234fbde0",
   "metadata": {},
   "outputs": [],
   "source": []
  },
  {
   "cell_type": "code",
   "execution_count": null,
   "id": "0281b0be",
   "metadata": {},
   "outputs": [],
   "source": []
  },
  {
   "cell_type": "code",
   "execution_count": null,
   "id": "14a8dee8",
   "metadata": {},
   "outputs": [],
   "source": []
  }
 ],
 "metadata": {
  "kernelspec": {
   "display_name": "Python 3 (ipykernel)",
   "language": "python",
   "name": "python3"
  },
  "language_info": {
   "codemirror_mode": {
    "name": "ipython",
    "version": 3
   },
   "file_extension": ".py",
   "mimetype": "text/x-python",
   "name": "python",
   "nbconvert_exporter": "python",
   "pygments_lexer": "ipython3",
   "version": "3.11.5"
  }
 },
 "nbformat": 4,
 "nbformat_minor": 5
}
